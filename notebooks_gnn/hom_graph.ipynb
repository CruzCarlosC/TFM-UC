{
 "cells": [
  {
   "cell_type": "code",
   "execution_count": 1,
   "metadata": {},
   "outputs": [
    {
     "name": "stdout",
     "output_type": "stream",
     "text": [
      "2.3.0+cu121\n"
     ]
    }
   ],
   "source": [
    "import numpy as np\n",
    "import matplotlib.pyplot as plt\n",
    "import pandas as pd\n",
    "import torch\n",
    "from torch import Tensor\n",
    "print(torch.__version__)"
   ]
  },
  {
   "cell_type": "code",
   "execution_count": 2,
   "metadata": {},
   "outputs": [],
   "source": [
    "import os\n",
    "os.environ['TORCH'] = torch.__version__"
   ]
  },
  {
   "cell_type": "markdown",
   "metadata": {},
   "source": [
    "# Siguiendo\n",
    "https://github.com/pyg-team/pytorch_geometric/blob/master/examples/link_pred.py"
   ]
  },
  {
   "cell_type": "code",
   "execution_count": 3,
   "metadata": {},
   "outputs": [],
   "source": [
    "#Get the current working directory\n",
    "cwd = os.getcwd()\n",
    "file_path = cwd + '/points_50.csv'"
   ]
  },
  {
   "cell_type": "code",
   "execution_count": 4,
   "metadata": {},
   "outputs": [],
   "source": [
    "# Importing the dataset\n",
    "df = pd.read_csv(file_path)"
   ]
  },
  {
   "cell_type": "code",
   "execution_count": 5,
   "metadata": {},
   "outputs": [],
   "source": [
    "#Round the values of the dataset to 4 decimal places\n",
    "df = df.round(4)\n",
    "\n",
    "#Add a column to use as index from 0 to the length of the dataset\n",
    "df['n_label'] = range(0, len(df))\n",
    "\n",
    "#delete the column p_label\n",
    "df = df.drop('p_label', axis=1)"
   ]
  },
  {
   "cell_type": "code",
   "execution_count": 6,
   "metadata": {},
   "outputs": [
    {
     "data": {
      "text/html": [
       "<div>\n",
       "<style scoped>\n",
       "    .dataframe tbody tr th:only-of-type {\n",
       "        vertical-align: middle;\n",
       "    }\n",
       "\n",
       "    .dataframe tbody tr th {\n",
       "        vertical-align: top;\n",
       "    }\n",
       "\n",
       "    .dataframe thead th {\n",
       "        text-align: right;\n",
       "    }\n",
       "</style>\n",
       "<table border=\"1\" class=\"dataframe\">\n",
       "  <thead>\n",
       "    <tr style=\"text-align: right;\">\n",
       "      <th></th>\n",
       "      <th>x</th>\n",
       "      <th>y</th>\n",
       "      <th>z</th>\n",
       "      <th>N_side</th>\n",
       "      <th>N_layer</th>\n",
       "      <th>t_label</th>\n",
       "      <th>phi</th>\n",
       "      <th>eta</th>\n",
       "      <th>q</th>\n",
       "      <th>pt</th>\n",
       "      <th>d0</th>\n",
       "      <th>z0</th>\n",
       "      <th>n_label</th>\n",
       "    </tr>\n",
       "  </thead>\n",
       "  <tbody>\n",
       "    <tr>\n",
       "      <th>0</th>\n",
       "      <td>-0.1120</td>\n",
       "      <td>-9.9682</td>\n",
       "      <td>-6.3331</td>\n",
       "      <td>8</td>\n",
       "      <td>1</td>\n",
       "      <td>T0</td>\n",
       "      <td>-1.6049</td>\n",
       "      <td>-0.6008</td>\n",
       "      <td>-1</td>\n",
       "      <td>48.2712</td>\n",
       "      <td>0.2156</td>\n",
       "      <td>0.022</td>\n",
       "      <td>0</td>\n",
       "    </tr>\n",
       "    <tr>\n",
       "      <th>1</th>\n",
       "      <td>-0.4144</td>\n",
       "      <td>-19.8918</td>\n",
       "      <td>-12.6639</td>\n",
       "      <td>8</td>\n",
       "      <td>2</td>\n",
       "      <td>T0</td>\n",
       "      <td>-1.6049</td>\n",
       "      <td>-0.6008</td>\n",
       "      <td>-1</td>\n",
       "      <td>48.2712</td>\n",
       "      <td>0.2156</td>\n",
       "      <td>0.022</td>\n",
       "      <td>1</td>\n",
       "    </tr>\n",
       "    <tr>\n",
       "      <th>2</th>\n",
       "      <td>-0.6930</td>\n",
       "      <td>-29.8162</td>\n",
       "      <td>-18.9948</td>\n",
       "      <td>8</td>\n",
       "      <td>3</td>\n",
       "      <td>T0</td>\n",
       "      <td>-1.6049</td>\n",
       "      <td>-0.6008</td>\n",
       "      <td>-1</td>\n",
       "      <td>48.2712</td>\n",
       "      <td>0.2156</td>\n",
       "      <td>0.022</td>\n",
       "      <td>2</td>\n",
       "    </tr>\n",
       "    <tr>\n",
       "      <th>3</th>\n",
       "      <td>-0.9483</td>\n",
       "      <td>-39.7538</td>\n",
       "      <td>-25.3337</td>\n",
       "      <td>8</td>\n",
       "      <td>4</td>\n",
       "      <td>T0</td>\n",
       "      <td>-1.6049</td>\n",
       "      <td>-0.6008</td>\n",
       "      <td>-1</td>\n",
       "      <td>48.2712</td>\n",
       "      <td>0.2156</td>\n",
       "      <td>0.022</td>\n",
       "      <td>3</td>\n",
       "    </tr>\n",
       "    <tr>\n",
       "      <th>4</th>\n",
       "      <td>-1.1794</td>\n",
       "      <td>-49.6794</td>\n",
       "      <td>-31.6646</td>\n",
       "      <td>8</td>\n",
       "      <td>5</td>\n",
       "      <td>T0</td>\n",
       "      <td>-1.6049</td>\n",
       "      <td>-0.6008</td>\n",
       "      <td>-1</td>\n",
       "      <td>48.2712</td>\n",
       "      <td>0.2156</td>\n",
       "      <td>0.022</td>\n",
       "      <td>4</td>\n",
       "    </tr>\n",
       "  </tbody>\n",
       "</table>\n",
       "</div>"
      ],
      "text/plain": [
       "        x        y        z  N_side  N_layer t_label     phi     eta  q  \\\n",
       "0 -0.1120  -9.9682  -6.3331       8        1      T0 -1.6049 -0.6008 -1   \n",
       "1 -0.4144 -19.8918 -12.6639       8        2      T0 -1.6049 -0.6008 -1   \n",
       "2 -0.6930 -29.8162 -18.9948       8        3      T0 -1.6049 -0.6008 -1   \n",
       "3 -0.9483 -39.7538 -25.3337       8        4      T0 -1.6049 -0.6008 -1   \n",
       "4 -1.1794 -49.6794 -31.6646       8        5      T0 -1.6049 -0.6008 -1   \n",
       "\n",
       "        pt      d0     z0  n_label  \n",
       "0  48.2712  0.2156  0.022        0  \n",
       "1  48.2712  0.2156  0.022        1  \n",
       "2  48.2712  0.2156  0.022        2  \n",
       "3  48.2712  0.2156  0.022        3  \n",
       "4  48.2712  0.2156  0.022        4  "
      ]
     },
     "execution_count": 6,
     "metadata": {},
     "output_type": "execute_result"
    }
   ],
   "source": [
    "df.head()"
   ]
  },
  {
   "cell_type": "code",
   "execution_count": 7,
   "metadata": {},
   "outputs": [],
   "source": [
    "#Create a pytorch geometric data object\n",
    "from torch_geometric.data import Data\n",
    "\n",
    "data=Data()\n"
   ]
  },
  {
   "cell_type": "code",
   "execution_count": 8,
   "metadata": {},
   "outputs": [],
   "source": [
    "#Add nodes to the data object from n_label column\n",
    "data.x = torch.tensor(df[['x','y','z','phi','eta','pt','d0','z0']].values, dtype=torch.float)"
   ]
  },
  {
   "cell_type": "code",
   "execution_count": 9,
   "metadata": {},
   "outputs": [],
   "source": [
    "edge_path = cwd + '/grap_50.csv'\n",
    "\n",
    "# Importing the dataset\n",
    "df_edge = pd.read_csv(edge_path)"
   ]
  },
  {
   "cell_type": "code",
   "execution_count": 10,
   "metadata": {},
   "outputs": [],
   "source": [
    "#Add edges to the data object\n",
    "data.edge_index = torch.tensor(df_edge[['Source','Target']].values, dtype=torch.long).t().contiguous()"
   ]
  },
  {
   "cell_type": "code",
   "execution_count": 11,
   "metadata": {},
   "outputs": [],
   "source": [
    "#data.edge_attr = torch.tensor(df_edge['weight'], dtype=torch.float).view(-1, 1)"
   ]
  },
  {
   "cell_type": "code",
   "execution_count": 12,
   "metadata": {},
   "outputs": [
    {
     "data": {
      "text/plain": [
       "True"
      ]
     },
     "execution_count": 12,
     "metadata": {},
     "output_type": "execute_result"
    }
   ],
   "source": [
    "data.validate(raise_on_error=True)"
   ]
  },
  {
   "cell_type": "code",
   "execution_count": 13,
   "metadata": {},
   "outputs": [],
   "source": [
    "import torch_geometric.transforms as T\n",
    "data = T.ToUndirected()(data)"
   ]
  },
  {
   "cell_type": "code",
   "execution_count": 14,
   "metadata": {},
   "outputs": [],
   "source": [
    "#Save the data object\n",
    "#torch.save(data, 'data_hom.pt')"
   ]
  },
  {
   "cell_type": "code",
   "execution_count": 15,
   "metadata": {},
   "outputs": [
    {
     "data": {
      "text/plain": [
       "Data(x=[500, 8], edge_index=[2, 1384])"
      ]
     },
     "execution_count": 15,
     "metadata": {},
     "output_type": "execute_result"
    }
   ],
   "source": [
    "data"
   ]
  },
  {
   "cell_type": "code",
   "execution_count": 16,
   "metadata": {},
   "outputs": [],
   "source": [
    "device = torch.device('cuda' if torch.cuda.is_available() else 'cpu')"
   ]
  },
  {
   "cell_type": "code",
   "execution_count": 17,
   "metadata": {},
   "outputs": [],
   "source": [
    "transform = T.Compose([\n",
    "    T.NormalizeFeatures(),\n",
    "    T.ToDevice(device),\n",
    "    T.RandomLinkSplit(num_val=0.05, num_test=0.1, is_undirected=True,\n",
    "                      add_negative_train_samples=False),\n",
    "])"
   ]
  },
  {
   "cell_type": "code",
   "execution_count": 18,
   "metadata": {},
   "outputs": [],
   "source": [
    "train_data, val_data, test_data = transform(data)"
   ]
  },
  {
   "cell_type": "code",
   "execution_count": 19,
   "metadata": {},
   "outputs": [
    {
     "name": "stdout",
     "output_type": "stream",
     "text": [
      "Data(x=[500, 8], edge_index=[2, 1178], edge_label=[589], edge_label_index=[2, 589])\n",
      "...................\n",
      "Data(x=[500, 8], edge_index=[2, 1178], edge_label=[68], edge_label_index=[2, 68])\n",
      "...................\n",
      "Data(x=[500, 8], edge_index=[2, 1246], edge_label=[138], edge_label_index=[2, 138])\n"
     ]
    }
   ],
   "source": [
    "print(train_data)\n",
    "print(\"...................\")\n",
    "print(val_data)\n",
    "print(\"...................\")\n",
    "print(test_data)"
   ]
  },
  {
   "cell_type": "code",
   "execution_count": 20,
   "metadata": {},
   "outputs": [],
   "source": [
    "from torch_geometric.nn import GCNConv\n",
    "from torch_geometric.utils import negative_sampling\n",
    "\n",
    "class Net(torch.nn.Module):\n",
    "    def __init__(self, in_channels, hidden_channels, out_channels):\n",
    "        super().__init__()\n",
    "        self.conv1 = GCNConv(in_channels, hidden_channels)\n",
    "        self.conv2 = GCNConv(hidden_channels, out_channels)\n",
    "\n",
    "    def encode(self, x, edge_index):\n",
    "        x = self.conv1(x, edge_index).relu()\n",
    "        return self.conv2(x, edge_index)\n",
    "\n",
    "    def decode(self, z, edge_label_index):\n",
    "        return (z[edge_label_index[0]] * z[edge_label_index[1]]).sum(dim=-1)\n",
    "\n",
    "    def decode_all(self, z):\n",
    "        prob_adj = z @ z.t()\n",
    "        return (prob_adj > 0).nonzero(as_tuple=False).t()"
   ]
  },
  {
   "cell_type": "code",
   "execution_count": 21,
   "metadata": {},
   "outputs": [],
   "source": [
    "model = Net(data.num_features, 128, 64).to(device)\n",
    "optimizer = torch.optim.Adam(params=model.parameters(), lr=0.01)\n",
    "criterion = torch.nn.BCEWithLogitsLoss()"
   ]
  },
  {
   "cell_type": "code",
   "execution_count": 22,
   "metadata": {},
   "outputs": [
    {
     "name": "stdout",
     "output_type": "stream",
     "text": [
      "Net(\n",
      "  (conv1): GCNConv(8, 128)\n",
      "  (conv2): GCNConv(128, 64)\n",
      ")\n"
     ]
    }
   ],
   "source": [
    "print(model)"
   ]
  },
  {
   "cell_type": "code",
   "execution_count": 23,
   "metadata": {},
   "outputs": [],
   "source": [
    "def train():\n",
    "    model.train()\n",
    "    optimizer.zero_grad()\n",
    "    z = model.encode(train_data.x, train_data.edge_index)\n",
    "\n",
    "    # We perform a new round of negative sampling for every training epoch:\n",
    "    neg_edge_index = negative_sampling(\n",
    "        edge_index=train_data.edge_index, num_nodes=train_data.num_nodes,\n",
    "        num_neg_samples=train_data.edge_label_index.size(1), method='sparse')\n",
    "\n",
    "    edge_label_index = torch.cat(\n",
    "        [train_data.edge_label_index, neg_edge_index],\n",
    "        dim=-1,\n",
    "    )\n",
    "    edge_label = torch.cat([\n",
    "        train_data.edge_label,\n",
    "        train_data.edge_label.new_zeros(neg_edge_index.size(1))\n",
    "    ], dim=0)\n",
    "\n",
    "    out = model.decode(z, edge_label_index).view(-1)\n",
    "    loss = criterion(out, edge_label)\n",
    "    loss.backward()\n",
    "    optimizer.step()\n",
    "    return loss"
   ]
  },
  {
   "cell_type": "code",
   "execution_count": 24,
   "metadata": {},
   "outputs": [],
   "source": [
    "from sklearn.metrics import roc_auc_score\n",
    "\n",
    "@torch.no_grad()\n",
    "def test(data):\n",
    "    model.eval()\n",
    "    z = model.encode(data.x, data.edge_index)\n",
    "    out = model.decode(z, data.edge_label_index).view(-1).sigmoid()\n",
    "    return roc_auc_score(data.edge_label.cpu().numpy(), out.cpu().numpy())"
   ]
  },
  {
   "cell_type": "code",
   "execution_count": 25,
   "metadata": {},
   "outputs": [
    {
     "name": "stdout",
     "output_type": "stream",
     "text": [
      "Epoch: 001, Loss: 0.6929, Val: 0.5277, Test: 0.3573\n",
      "Epoch: 002, Loss: 0.6927, Val: 0.4913, Test: 0.3226\n",
      "Epoch: 003, Loss: 0.6932, Val: 0.5285, Test: 0.3621\n",
      "Epoch: 004, Loss: 0.6921, Val: 0.5510, Test: 0.3886\n",
      "Epoch: 005, Loss: 0.6919, Val: 0.5476, Test: 0.3886\n",
      "Epoch: 006, Loss: 0.6915, Val: 0.5407, Test: 0.3823\n",
      "Epoch: 007, Loss: 0.6910, Val: 0.5536, Test: 0.3955\n",
      "Epoch: 008, Loss: 0.6907, Val: 0.5796, Test: 0.4304\n",
      "Epoch: 009, Loss: 0.6899, Val: 0.5865, Test: 0.4476\n",
      "Epoch: 010, Loss: 0.6885, Val: 0.5718, Test: 0.4211\n",
      "Epoch: 011, Loss: 0.6878, Val: 0.6003, Test: 0.4791\n",
      "Epoch: 012, Loss: 0.6870, Val: 0.6808, Test: 0.7441\n",
      "Epoch: 013, Loss: 0.6855, Val: 0.6765, Test: 0.6912\n",
      "Epoch: 014, Loss: 0.6823, Val: 0.6081, Test: 0.4829\n",
      "Epoch: 015, Loss: 0.6797, Val: 0.6176, Test: 0.5201\n",
      "Epoch: 016, Loss: 0.6789, Val: 0.6332, Test: 0.7236\n",
      "Epoch: 017, Loss: 0.6752, Val: 0.7024, Test: 0.7633\n",
      "Epoch: 018, Loss: 0.6717, Val: 0.6410, Test: 0.5528\n",
      "Epoch: 019, Loss: 0.6673, Val: 0.6479, Test: 0.5887\n",
      "Epoch: 020, Loss: 0.6654, Val: 0.6739, Test: 0.7580\n",
      "Epoch: 021, Loss: 0.6610, Val: 0.6540, Test: 0.7364\n",
      "Epoch: 022, Loss: 0.6577, Val: 0.6912, Test: 0.6933\n",
      "Epoch: 023, Loss: 0.6545, Val: 0.6877, Test: 0.6812\n",
      "Epoch: 024, Loss: 0.6452, Val: 0.7102, Test: 0.7639\n",
      "Epoch: 025, Loss: 0.6429, Val: 0.6557, Test: 0.7391\n",
      "Epoch: 026, Loss: 0.6401, Val: 0.6886, Test: 0.6814\n",
      "Epoch: 027, Loss: 0.6412, Val: 0.6920, Test: 0.6959\n",
      "Epoch: 028, Loss: 0.6417, Val: 0.6540, Test: 0.7385\n",
      "Epoch: 029, Loss: 0.6471, Val: 0.7093, Test: 0.7652\n",
      "Epoch: 030, Loss: 0.6298, Val: 0.6834, Test: 0.6702\n",
      "Epoch: 031, Loss: 0.6629, Val: 0.7111, Test: 0.7681\n",
      "Epoch: 032, Loss: 0.6497, Val: 0.6497, Test: 0.7400\n",
      "Epoch: 033, Loss: 0.6552, Val: 0.7076, Test: 0.7656\n",
      "Epoch: 034, Loss: 0.6305, Val: 0.6990, Test: 0.7524\n",
      "Epoch: 035, Loss: 0.6273, Val: 0.6938, Test: 0.7062\n",
      "Epoch: 036, Loss: 0.6311, Val: 0.7042, Test: 0.7494\n",
      "Epoch: 037, Loss: 0.6428, Val: 0.6540, Test: 0.7463\n",
      "Epoch: 038, Loss: 0.6480, Val: 0.6548, Test: 0.7454\n",
      "Epoch: 039, Loss: 0.6423, Val: 0.7067, Test: 0.7488\n",
      "Epoch: 040, Loss: 0.6295, Val: 0.6834, Test: 0.6646\n",
      "Epoch: 041, Loss: 0.6605, Val: 0.7016, Test: 0.7398\n",
      "Epoch: 042, Loss: 0.6550, Val: 0.6704, Test: 0.7509\n",
      "Epoch: 043, Loss: 0.6472, Val: 0.6522, Test: 0.7219\n",
      "Epoch: 044, Loss: 0.6494, Val: 0.7033, Test: 0.7599\n",
      "Epoch: 045, Loss: 0.6550, Val: 0.6981, Test: 0.7345\n",
      "Epoch: 046, Loss: 0.6298, Val: 0.6903, Test: 0.6812\n",
      "Epoch: 047, Loss: 0.6426, Val: 0.6955, Test: 0.7219\n",
      "Epoch: 048, Loss: 0.6550, Val: 0.7119, Test: 0.7635\n",
      "Epoch: 049, Loss: 0.6362, Val: 0.6635, Test: 0.7211\n",
      "Epoch: 050, Loss: 0.6399, Val: 0.6548, Test: 0.7391\n",
      "Epoch: 051, Loss: 0.6401, Val: 0.7163, Test: 0.7658\n",
      "Epoch: 052, Loss: 0.6351, Val: 0.6938, Test: 0.6904\n",
      "Epoch: 053, Loss: 0.6496, Val: 0.6946, Test: 0.6828\n",
      "Epoch: 054, Loss: 0.6460, Val: 0.7145, Test: 0.7652\n",
      "Epoch: 055, Loss: 0.6374, Val: 0.6644, Test: 0.7295\n",
      "Epoch: 056, Loss: 0.6498, Val: 0.6635, Test: 0.7311\n",
      "Epoch: 057, Loss: 0.6464, Val: 0.7128, Test: 0.7671\n",
      "Epoch: 058, Loss: 0.6232, Val: 0.7042, Test: 0.7484\n",
      "Epoch: 059, Loss: 0.6362, Val: 0.6912, Test: 0.7028\n",
      "Epoch: 060, Loss: 0.6473, Val: 0.7050, Test: 0.7515\n",
      "Epoch: 061, Loss: 0.6340, Val: 0.7076, Test: 0.7635\n",
      "Epoch: 062, Loss: 0.6387, Val: 0.6592, Test: 0.7469\n",
      "Epoch: 063, Loss: 0.6430, Val: 0.7119, Test: 0.7643\n",
      "Epoch: 064, Loss: 0.6265, Val: 0.7042, Test: 0.7494\n",
      "Epoch: 065, Loss: 0.6314, Val: 0.6990, Test: 0.7284\n",
      "Epoch: 066, Loss: 0.6538, Val: 0.7033, Test: 0.7564\n",
      "Epoch: 067, Loss: 0.6311, Val: 0.7093, Test: 0.7656\n",
      "Epoch: 068, Loss: 0.6234, Val: 0.7067, Test: 0.7635\n",
      "Epoch: 069, Loss: 0.6202, Val: 0.7128, Test: 0.7612\n",
      "Epoch: 070, Loss: 0.6340, Val: 0.7085, Test: 0.7438\n",
      "Epoch: 071, Loss: 0.6293, Val: 0.6981, Test: 0.7263\n",
      "Epoch: 072, Loss: 0.6280, Val: 0.7067, Test: 0.7593\n",
      "Epoch: 073, Loss: 0.6237, Val: 0.6964, Test: 0.7622\n",
      "Epoch: 074, Loss: 0.6289, Val: 0.6618, Test: 0.7482\n",
      "Epoch: 075, Loss: 0.6262, Val: 0.7111, Test: 0.7681\n",
      "Epoch: 076, Loss: 0.6464, Val: 0.7076, Test: 0.7431\n",
      "Epoch: 077, Loss: 0.6297, Val: 0.6903, Test: 0.6923\n",
      "Epoch: 078, Loss: 0.6450, Val: 0.7033, Test: 0.7412\n",
      "Epoch: 079, Loss: 0.6379, Val: 0.7059, Test: 0.7664\n",
      "Epoch: 080, Loss: 0.6195, Val: 0.6920, Test: 0.7564\n",
      "Epoch: 081, Loss: 0.6349, Val: 0.7119, Test: 0.7687\n",
      "Epoch: 082, Loss: 0.6266, Val: 0.6964, Test: 0.7227\n",
      "Epoch: 083, Loss: 0.6387, Val: 0.6946, Test: 0.7110\n",
      "Epoch: 084, Loss: 0.6267, Val: 0.6981, Test: 0.7547\n",
      "Epoch: 085, Loss: 0.6284, Val: 0.6929, Test: 0.7589\n",
      "Epoch: 086, Loss: 0.6331, Val: 0.6609, Test: 0.7440\n",
      "Epoch: 087, Loss: 0.6469, Val: 0.7119, Test: 0.7698\n",
      "Epoch: 088, Loss: 0.6229, Val: 0.6990, Test: 0.7324\n",
      "Epoch: 089, Loss: 0.6384, Val: 0.6903, Test: 0.6984\n",
      "Epoch: 090, Loss: 0.6300, Val: 0.6990, Test: 0.7330\n",
      "Epoch: 091, Loss: 0.6235, Val: 0.7111, Test: 0.7671\n",
      "Epoch: 092, Loss: 0.6343, Val: 0.6652, Test: 0.7305\n",
      "Epoch: 093, Loss: 0.6467, Val: 0.6730, Test: 0.7456\n",
      "Epoch: 094, Loss: 0.6432, Val: 0.6990, Test: 0.7526\n",
      "Epoch: 095, Loss: 0.6312, Val: 0.6938, Test: 0.6795\n",
      "Epoch: 096, Loss: 0.6344, Val: 0.6938, Test: 0.6965\n",
      "Epoch: 097, Loss: 0.6339, Val: 0.7128, Test: 0.7561\n",
      "Epoch: 098, Loss: 0.6374, Val: 0.6964, Test: 0.7570\n",
      "Epoch: 099, Loss: 0.6388, Val: 0.6955, Test: 0.7549\n",
      "Epoch: 100, Loss: 0.6339, Val: 0.7206, Test: 0.7608\n",
      "Final Test: 0.7608\n"
     ]
    }
   ],
   "source": [
    "best_val_auc = final_test_auc = 0\n",
    "for epoch in range(1, 101):\n",
    "    loss = train()\n",
    "    val_auc = test(val_data)\n",
    "    test_auc = test(test_data)\n",
    "    if val_auc > best_val_auc:\n",
    "        best_val_auc = val_auc\n",
    "        final_test_auc = test_auc\n",
    "    print(f'Epoch: {epoch:03d}, Loss: {loss:.4f}, Val: {val_auc:.4f}, '\n",
    "          f'Test: {test_auc:.4f}')\n",
    "\n",
    "print(f'Final Test: {final_test_auc:.4f}')"
   ]
  },
  {
   "cell_type": "code",
   "execution_count": 26,
   "metadata": {},
   "outputs": [],
   "source": [
    "z = model.encode(test_data.x, test_data.edge_index)\n",
    "final_edge_index = model.decode_all(z)"
   ]
  },
  {
   "cell_type": "code",
   "execution_count": null,
   "metadata": {},
   "outputs": [],
   "source": []
  }
 ],
 "metadata": {
  "kernelspec": {
   "display_name": "Python 3 (ipykernel)",
   "language": "python",
   "name": "python3"
  },
  "language_info": {
   "codemirror_mode": {
    "name": "ipython",
    "version": 3
   },
   "file_extension": ".py",
   "mimetype": "text/x-python",
   "name": "python",
   "nbconvert_exporter": "python",
   "pygments_lexer": "ipython3",
   "version": "3.10.12"
  }
 },
 "nbformat": 4,
 "nbformat_minor": 2
}
