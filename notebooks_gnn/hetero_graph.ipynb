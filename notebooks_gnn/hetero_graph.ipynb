{
 "cells": [
  {
   "cell_type": "code",
   "execution_count": 1,
   "metadata": {},
   "outputs": [
    {
     "name": "stdout",
     "output_type": "stream",
     "text": [
      "2.3.0+cu121\n"
     ]
    }
   ],
   "source": [
    "#Libraries\n",
    "import numpy as np\n",
    "import matplotlib.pyplot as plt\n",
    "import pandas as pd\n",
    "import torch\n",
    "from torch import Tensor\n",
    "import os\n",
    "\n",
    "os.environ['TORCH'] = torch.__version__\n",
    "print(torch.__version__)"
   ]
  },
  {
   "cell_type": "code",
   "execution_count": 2,
   "metadata": {},
   "outputs": [],
   "source": [
    "#Get the current working directory\n",
    "cwd = os.getcwd()\n",
    "file_path = cwd + '/points_50.csv'"
   ]
  },
  {
   "cell_type": "code",
   "execution_count": 3,
   "metadata": {},
   "outputs": [
    {
     "data": {
      "text/html": [
       "<div>\n",
       "<style scoped>\n",
       "    .dataframe tbody tr th:only-of-type {\n",
       "        vertical-align: middle;\n",
       "    }\n",
       "\n",
       "    .dataframe tbody tr th {\n",
       "        vertical-align: top;\n",
       "    }\n",
       "\n",
       "    .dataframe thead th {\n",
       "        text-align: right;\n",
       "    }\n",
       "</style>\n",
       "<table border=\"1\" class=\"dataframe\">\n",
       "  <thead>\n",
       "    <tr style=\"text-align: right;\">\n",
       "      <th></th>\n",
       "      <th>x</th>\n",
       "      <th>y</th>\n",
       "      <th>z</th>\n",
       "      <th>N_side</th>\n",
       "      <th>N_layer</th>\n",
       "      <th>t_label</th>\n",
       "      <th>phi</th>\n",
       "      <th>eta</th>\n",
       "      <th>q</th>\n",
       "      <th>pt</th>\n",
       "      <th>d0</th>\n",
       "      <th>z0</th>\n",
       "      <th>n_label</th>\n",
       "    </tr>\n",
       "  </thead>\n",
       "  <tbody>\n",
       "    <tr>\n",
       "      <th>0</th>\n",
       "      <td>-0.1120</td>\n",
       "      <td>-9.9682</td>\n",
       "      <td>-6.3331</td>\n",
       "      <td>8</td>\n",
       "      <td>1</td>\n",
       "      <td>T0</td>\n",
       "      <td>-1.6049</td>\n",
       "      <td>-0.6008</td>\n",
       "      <td>-1</td>\n",
       "      <td>48.2712</td>\n",
       "      <td>0.2156</td>\n",
       "      <td>0.022</td>\n",
       "      <td>0</td>\n",
       "    </tr>\n",
       "    <tr>\n",
       "      <th>1</th>\n",
       "      <td>-0.4144</td>\n",
       "      <td>-19.8918</td>\n",
       "      <td>-12.6639</td>\n",
       "      <td>8</td>\n",
       "      <td>2</td>\n",
       "      <td>T0</td>\n",
       "      <td>-1.6049</td>\n",
       "      <td>-0.6008</td>\n",
       "      <td>-1</td>\n",
       "      <td>48.2712</td>\n",
       "      <td>0.2156</td>\n",
       "      <td>0.022</td>\n",
       "      <td>1</td>\n",
       "    </tr>\n",
       "    <tr>\n",
       "      <th>2</th>\n",
       "      <td>-0.6930</td>\n",
       "      <td>-29.8162</td>\n",
       "      <td>-18.9948</td>\n",
       "      <td>8</td>\n",
       "      <td>3</td>\n",
       "      <td>T0</td>\n",
       "      <td>-1.6049</td>\n",
       "      <td>-0.6008</td>\n",
       "      <td>-1</td>\n",
       "      <td>48.2712</td>\n",
       "      <td>0.2156</td>\n",
       "      <td>0.022</td>\n",
       "      <td>2</td>\n",
       "    </tr>\n",
       "    <tr>\n",
       "      <th>3</th>\n",
       "      <td>-0.9483</td>\n",
       "      <td>-39.7538</td>\n",
       "      <td>-25.3337</td>\n",
       "      <td>8</td>\n",
       "      <td>4</td>\n",
       "      <td>T0</td>\n",
       "      <td>-1.6049</td>\n",
       "      <td>-0.6008</td>\n",
       "      <td>-1</td>\n",
       "      <td>48.2712</td>\n",
       "      <td>0.2156</td>\n",
       "      <td>0.022</td>\n",
       "      <td>3</td>\n",
       "    </tr>\n",
       "    <tr>\n",
       "      <th>4</th>\n",
       "      <td>-1.1794</td>\n",
       "      <td>-49.6794</td>\n",
       "      <td>-31.6646</td>\n",
       "      <td>8</td>\n",
       "      <td>5</td>\n",
       "      <td>T0</td>\n",
       "      <td>-1.6049</td>\n",
       "      <td>-0.6008</td>\n",
       "      <td>-1</td>\n",
       "      <td>48.2712</td>\n",
       "      <td>0.2156</td>\n",
       "      <td>0.022</td>\n",
       "      <td>4</td>\n",
       "    </tr>\n",
       "  </tbody>\n",
       "</table>\n",
       "</div>"
      ],
      "text/plain": [
       "        x        y        z  N_side  N_layer t_label     phi     eta  q  \\\n",
       "0 -0.1120  -9.9682  -6.3331       8        1      T0 -1.6049 -0.6008 -1   \n",
       "1 -0.4144 -19.8918 -12.6639       8        2      T0 -1.6049 -0.6008 -1   \n",
       "2 -0.6930 -29.8162 -18.9948       8        3      T0 -1.6049 -0.6008 -1   \n",
       "3 -0.9483 -39.7538 -25.3337       8        4      T0 -1.6049 -0.6008 -1   \n",
       "4 -1.1794 -49.6794 -31.6646       8        5      T0 -1.6049 -0.6008 -1   \n",
       "\n",
       "        pt      d0     z0  n_label  \n",
       "0  48.2712  0.2156  0.022        0  \n",
       "1  48.2712  0.2156  0.022        1  \n",
       "2  48.2712  0.2156  0.022        2  \n",
       "3  48.2712  0.2156  0.022        3  \n",
       "4  48.2712  0.2156  0.022        4  "
      ]
     },
     "execution_count": 3,
     "metadata": {},
     "output_type": "execute_result"
    }
   ],
   "source": [
    "df=pd.read_csv(file_path)\n",
    "\n",
    "#Round the values of the dataset to 4 decimal places\n",
    "df = df.round(4)\n",
    "\n",
    "#Add a column to use as index from 0 to the length of the dataset\n",
    "df['n_label'] = range(0, len(df))\n",
    "\n",
    "#delete the column p_label\n",
    "df = df.drop('p_label', axis=1)\n",
    "\n",
    "df.head()"
   ]
  },
  {
   "cell_type": "code",
   "execution_count": 4,
   "metadata": {},
   "outputs": [],
   "source": [
    "import torch_geometric.transforms as T\n",
    "from torch_geometric.data import HeteroData"
   ]
  },
  {
   "cell_type": "code",
   "execution_count": 5,
   "metadata": {},
   "outputs": [],
   "source": [
    "#Empty hetero graph \n",
    "data=HeteroData()"
   ]
  },
  {
   "cell_type": "markdown",
   "metadata": {},
   "source": [
    "## Add nodes"
   ]
  },
  {
   "cell_type": "code",
   "execution_count": 6,
   "metadata": {},
   "outputs": [],
   "source": [
    "#node names\n",
    "nodes_s=df['n_label'].values\n",
    "nodes_t=df['n_label'].values"
   ]
  },
  {
   "cell_type": "code",
   "execution_count": 7,
   "metadata": {},
   "outputs": [],
   "source": [
    "#Add nodes to the graph\n",
    "data['source'].node_id = torch.tensor(nodes_s, dtype=torch.long)\n",
    "data['target'].node_id = torch.tensor(nodes_t, dtype=torch.long)"
   ]
  },
  {
   "cell_type": "code",
   "execution_count": 8,
   "metadata": {},
   "outputs": [],
   "source": [
    "#Add node attributes, in this case the position of the points\n",
    "data['source'].x = Tensor(df[['x', 'y', 'z']].values)\n",
    "data['target'].x = Tensor(df[['x', 'y', 'z']].values)"
   ]
  },
  {
   "cell_type": "code",
   "execution_count": 9,
   "metadata": {},
   "outputs": [
    {
     "data": {
      "text/plain": [
       "HeteroData(\n",
       "  source={\n",
       "    node_id=[500],\n",
       "    x=[500, 3],\n",
       "  },\n",
       "  target={\n",
       "    node_id=[500],\n",
       "    x=[500, 3],\n",
       "  }\n",
       ")"
      ]
     },
     "execution_count": 9,
     "metadata": {},
     "output_type": "execute_result"
    }
   ],
   "source": [
    "data"
   ]
  },
  {
   "cell_type": "markdown",
   "metadata": {},
   "source": [
    "## Add edges"
   ]
  },
  {
   "cell_type": "code",
   "execution_count": 10,
   "metadata": {},
   "outputs": [],
   "source": [
    "edge_path = cwd + '/grap_50.csv'\n",
    "\n",
    "# Importing the dataset\n",
    "df_edge = pd.read_csv(edge_path)"
   ]
  },
  {
   "cell_type": "code",
   "execution_count": 11,
   "metadata": {},
   "outputs": [],
   "source": [
    "#Change weight column, where 0.5 to 0\n",
    "df_edge['weight'] = df_edge['weight'].replace(0.5, 0)"
   ]
  },
  {
   "cell_type": "code",
   "execution_count": 12,
   "metadata": {},
   "outputs": [],
   "source": [
    "edge_index = torch.tensor([df_edge['Source'], df_edge['Target']], dtype=torch.long)"
   ]
  },
  {
   "cell_type": "code",
   "execution_count": 13,
   "metadata": {},
   "outputs": [],
   "source": [
    "data['source', 'weight', 'target'].edge_index = edge_index"
   ]
  },
  {
   "cell_type": "code",
   "execution_count": 14,
   "metadata": {},
   "outputs": [
    {
     "data": {
      "text/plain": [
       "HeteroData(\n",
       "  source={\n",
       "    node_id=[500],\n",
       "    x=[500, 3],\n",
       "  },\n",
       "  target={\n",
       "    node_id=[500],\n",
       "    x=[500, 3],\n",
       "  },\n",
       "  (source, weight, target)={ edge_index=[2, 692] }\n",
       ")"
      ]
     },
     "execution_count": 14,
     "metadata": {},
     "output_type": "execute_result"
    }
   ],
   "source": [
    "data"
   ]
  },
  {
   "cell_type": "code",
   "execution_count": 15,
   "metadata": {},
   "outputs": [],
   "source": [
    "#edge attributes\n",
    "weight_val = torch.from_numpy(df_edge['weight'].values).to(torch.float)"
   ]
  },
  {
   "cell_type": "code",
   "execution_count": 16,
   "metadata": {},
   "outputs": [],
   "source": [
    "data['source', 'weight', 'target'].edge_label=weight_val"
   ]
  },
  {
   "cell_type": "code",
   "execution_count": 17,
   "metadata": {},
   "outputs": [
    {
     "data": {
      "text/plain": [
       "HeteroData(\n",
       "  source={\n",
       "    node_id=[500],\n",
       "    x=[500, 3],\n",
       "  },\n",
       "  target={\n",
       "    node_id=[500],\n",
       "    x=[500, 3],\n",
       "  },\n",
       "  (source, weight, target)={\n",
       "    edge_index=[2, 692],\n",
       "    edge_label=[692],\n",
       "  }\n",
       ")"
      ]
     },
     "execution_count": 17,
     "metadata": {},
     "output_type": "execute_result"
    }
   ],
   "source": [
    "data"
   ]
  },
  {
   "cell_type": "code",
   "execution_count": 18,
   "metadata": {},
   "outputs": [
    {
     "data": {
      "text/plain": [
       "True"
      ]
     },
     "execution_count": 18,
     "metadata": {},
     "output_type": "execute_result"
    }
   ],
   "source": [
    "#check if the data is valid\n",
    "data.validate(raise_on_error=True)"
   ]
  },
  {
   "cell_type": "code",
   "execution_count": 19,
   "metadata": {},
   "outputs": [],
   "source": [
    "import torch_geometric.transforms as T\n",
    "data = T.ToUndirected()(data)"
   ]
  },
  {
   "cell_type": "code",
   "execution_count": 20,
   "metadata": {},
   "outputs": [],
   "source": [
    "del data['target', 'rev_weight', 'source'].edge_label"
   ]
  },
  {
   "cell_type": "code",
   "execution_count": 21,
   "metadata": {},
   "outputs": [
    {
     "name": "stdout",
     "output_type": "stream",
     "text": [
      "True\n"
     ]
    },
    {
     "data": {
      "text/plain": [
       "HeteroData(\n",
       "  source={\n",
       "    node_id=[500],\n",
       "    x=[500, 3],\n",
       "  },\n",
       "  target={\n",
       "    node_id=[500],\n",
       "    x=[500, 3],\n",
       "  },\n",
       "  (source, weight, target)={\n",
       "    edge_index=[2, 692],\n",
       "    edge_label=[692],\n",
       "  },\n",
       "  (target, rev_weight, source)={ edge_index=[2, 692] }\n",
       ")"
      ]
     },
     "execution_count": 21,
     "metadata": {},
     "output_type": "execute_result"
    }
   ],
   "source": [
    "print(data.validate(raise_on_error=True))\n",
    "data"
   ]
  },
  {
   "cell_type": "code",
   "execution_count": 46,
   "metadata": {},
   "outputs": [],
   "source": [
    "#save data into .pt file\n",
    "torch.save(data, 'data_50.pt')"
   ]
  },
  {
   "cell_type": "code",
   "execution_count": 22,
   "metadata": {},
   "outputs": [],
   "source": [
    "train_data, val_data, test_data = T.RandomLinkSplit(\n",
    "    num_val=0.1,\n",
    "    num_test=0.1,\n",
    "    neg_sampling_ratio=0.0,\n",
    "    edge_types=[('source', 'weight', 'target')],\n",
    "    rev_edge_types=[('target', 'rev_weight', 'source')],\n",
    ")(data)"
   ]
  },
  {
   "cell_type": "code",
   "execution_count": 23,
   "metadata": {},
   "outputs": [
    {
     "data": {
      "text/plain": [
       "HeteroData(\n",
       "  source={\n",
       "    node_id=[500],\n",
       "    x=[500, 3],\n",
       "  },\n",
       "  target={\n",
       "    node_id=[500],\n",
       "    x=[500, 3],\n",
       "  },\n",
       "  (source, weight, target)={\n",
       "    edge_index=[2, 554],\n",
       "    edge_label=[554],\n",
       "    edge_label_index=[2, 554],\n",
       "  },\n",
       "  (target, rev_weight, source)={ edge_index=[2, 554] }\n",
       ")"
      ]
     },
     "execution_count": 23,
     "metadata": {},
     "output_type": "execute_result"
    }
   ],
   "source": [
    "train_data"
   ]
  },
  {
   "cell_type": "markdown",
   "metadata": {},
   "source": [
    "## Model"
   ]
  },
  {
   "cell_type": "code",
   "execution_count": 24,
   "metadata": {},
   "outputs": [
    {
     "name": "stdout",
     "output_type": "stream",
     "text": [
      "Model(\n",
      "  (encoder): GraphModule(\n",
      "    (conv1): ModuleDict(\n",
      "      (source__weight__target): SAGEConv((-1, -1), 32, aggr=mean)\n",
      "      (target__rev_weight__source): SAGEConv((-1, -1), 32, aggr=mean)\n",
      "    )\n",
      "    (conv2): ModuleDict(\n",
      "      (source__weight__target): SAGEConv((-1, -1), 32, aggr=mean)\n",
      "      (target__rev_weight__source): SAGEConv((-1, -1), 32, aggr=mean)\n",
      "    )\n",
      "  )\n",
      "  (decoder): EdgeDecoder(\n",
      "    (lin1): Linear(in_features=64, out_features=32, bias=True)\n",
      "    (lin2): Linear(in_features=32, out_features=1, bias=True)\n",
      "  )\n",
      ")\n"
     ]
    }
   ],
   "source": [
    "from torch_geometric.nn import SAGEConv, to_hetero\n",
    "\n",
    "class GNNEncoder(torch.nn.Module):\n",
    "    def __init__(self, hidden_channels, out_channels):\n",
    "        super().__init__()\n",
    "        self.conv1 = SAGEConv((-1, -1), hidden_channels)\n",
    "        self.conv2 = SAGEConv((-1, -1), out_channels)\n",
    "\n",
    "    def forward(self, x, edge_index):\n",
    "        x = self.conv1(x, edge_index).relu()\n",
    "        x = self.conv2(x, edge_index)\n",
    "        return x\n",
    "\n",
    "\n",
    "class EdgeDecoder(torch.nn.Module):\n",
    "    def __init__(self, hidden_channels):\n",
    "        super().__init__()\n",
    "        self.lin1 = torch.nn.Linear(2 * hidden_channels, hidden_channels)\n",
    "        self.lin2 = torch.nn.Linear(hidden_channels, 1)\n",
    "\n",
    "    def forward(self, z_dict, edge_label_index):\n",
    "        row, col = edge_label_index\n",
    "        z = torch.cat([z_dict['source'][row], z_dict['target'][col]], dim=-1)\n",
    "\n",
    "        z = self.lin1(z).relu()\n",
    "        z = self.lin2(z)\n",
    "        return z.view(-1)\n",
    "\n",
    "\n",
    "class Model(torch.nn.Module):\n",
    "    def __init__(self, hidden_channels):\n",
    "        super().__init__()\n",
    "        self.encoder = GNNEncoder(hidden_channels, hidden_channels)\n",
    "        self.encoder = to_hetero(self.encoder, data.metadata(), aggr='sum')\n",
    "        self.decoder = EdgeDecoder(hidden_channels)\n",
    "\n",
    "    def forward(self, x_dict, edge_index_dict, edge_label_index):\n",
    "        z_dict = self.encoder(x_dict, edge_index_dict)\n",
    "        return self.decoder(z_dict, edge_label_index)\n",
    "\n",
    "device = torch.device('cuda' if torch.cuda.is_available() else 'cpu')\n",
    "\n",
    "model = Model(hidden_channels=32).to(device)\n",
    "\n",
    "print(model)"
   ]
  },
  {
   "cell_type": "code",
   "execution_count": 25,
   "metadata": {},
   "outputs": [],
   "source": [
    "import torch.nn.functional as F\n",
    "\n",
    "optimizer = torch.optim.Adam(model.parameters(), lr=0.01)\n",
    "\n",
    "def train():\n",
    "    model.train()\n",
    "    optimizer.zero_grad()\n",
    "    pred = model(train_data.x_dict, train_data.edge_index_dict,\n",
    "                 train_data['source', 'target'].edge_label_index)\n",
    "    target = train_data['source', 'target'].edge_label\n",
    "    loss = F.mse_loss(pred, target)\n",
    "    loss.backward()\n",
    "    optimizer.step()\n",
    "    return float(loss)\n",
    "\n",
    "@torch.no_grad()\n",
    "def test(data):\n",
    "    data = data.to(device)\n",
    "    model.eval()\n",
    "    pred = model(data.x_dict, data.edge_index_dict,\n",
    "                 data['source', 'target'].edge_label_index)\n",
    "    pred = pred.clamp(min=0, max=1)\n",
    "    target = data['source', 'target'].edge_label.float()\n",
    "    rmse = F.mse_loss(pred, target).sqrt()\n",
    "    return float(rmse)"
   ]
  },
  {
   "cell_type": "code",
   "execution_count": 26,
   "metadata": {},
   "outputs": [
    {
     "name": "stdout",
     "output_type": "stream",
     "text": [
      "Epoch: 001, Loss: 19.2540, Train: 0.8307, Val: 0.8955\n",
      "Epoch: 002, Loss: 911.3440, Train: 0.7092, Val: 0.7532\n",
      "Epoch: 003, Loss: 111.7740, Train: 0.5784, Val: 0.6626\n",
      "Epoch: 004, Loss: 36.1454, Train: 0.5444, Val: 0.6546\n",
      "Epoch: 005, Loss: 60.6273, Train: 0.6654, Val: 0.6594\n",
      "Epoch: 006, Loss: 32.1431, Train: 0.7006, Val: 0.7489\n",
      "Epoch: 007, Loss: 7.2293, Train: 0.8391, Val: 0.8390\n",
      "Epoch: 008, Loss: 8.5974, Train: 0.8382, Val: 0.8728\n",
      "Epoch: 009, Loss: 20.1188, Train: 0.8131, Val: 0.8533\n",
      "Epoch: 010, Loss: 18.7385, Train: 0.7602, Val: 0.7478\n",
      "Epoch: 011, Loss: 7.2755, Train: 0.6218, Val: 0.6130\n",
      "Epoch: 012, Loss: 2.2397, Train: 0.5545, Val: 0.5448\n",
      "Epoch: 013, Loss: 6.2938, Train: 0.5298, Val: 0.5233\n",
      "Epoch: 014, Loss: 8.5234, Train: 0.5318, Val: 0.5680\n",
      "Epoch: 015, Loss: 5.3990, Train: 0.5688, Val: 0.6816\n",
      "Epoch: 016, Loss: 1.5719, Train: 0.7023, Val: 0.8098\n",
      "Epoch: 017, Loss: 1.0588, Train: 0.7959, Val: 0.8737\n",
      "Epoch: 018, Loss: 3.4331, Train: 0.8124, Val: 0.8786\n",
      "Epoch: 019, Loss: 4.7852, Train: 0.8071, Val: 0.8765\n",
      "Epoch: 020, Loss: 3.5498, Train: 0.7761, Val: 0.8478\n",
      "Epoch: 021, Loss: 1.6142, Train: 0.6803, Val: 0.7872\n",
      "Epoch: 022, Loss: 0.7848, Train: 0.6274, Val: 0.7203\n",
      "Epoch: 023, Loss: 1.0573, Train: 0.5870, Val: 0.6696\n",
      "Epoch: 024, Loss: 1.5820, Train: 0.5644, Val: 0.6302\n",
      "Epoch: 025, Loss: 1.7203, Train: 0.5557, Val: 0.6168\n",
      "Epoch: 026, Loss: 1.3660, Train: 0.5494, Val: 0.6342\n",
      "Epoch: 027, Loss: 0.8356, Train: 0.5507, Val: 0.6652\n",
      "Epoch: 028, Loss: 0.4760, Train: 0.5928, Val: 0.7046\n",
      "Epoch: 029, Loss: 0.4176, Train: 0.6519, Val: 0.7209\n",
      "Epoch: 030, Loss: 0.5810, Train: 0.6718, Val: 0.7320\n",
      "Epoch: 031, Loss: 0.7948, Train: 0.6786, Val: 0.7360\n",
      "Epoch: 032, Loss: 0.9250, Train: 0.6747, Val: 0.7334\n",
      "Epoch: 033, Loss: 0.9153, Train: 0.6622, Val: 0.7241\n",
      "Epoch: 034, Loss: 0.7850, Train: 0.6415, Val: 0.7085\n",
      "Epoch: 035, Loss: 0.6011, Train: 0.6059, Val: 0.6937\n",
      "Epoch: 036, Loss: 0.4427, Train: 0.5559, Val: 0.6736\n",
      "Epoch: 037, Loss: 0.3679, Train: 0.5285, Val: 0.6478\n",
      "Epoch: 038, Loss: 0.3898, Train: 0.5267, Val: 0.6288\n",
      "Epoch: 039, Loss: 0.4717, Train: 0.5286, Val: 0.6191\n",
      "Epoch: 040, Loss: 0.5482, Train: 0.5299, Val: 0.6175\n",
      "Epoch: 041, Loss: 0.5668, Train: 0.5306, Val: 0.6225\n",
      "Epoch: 042, Loss: 0.5196, Train: 0.5304, Val: 0.6335\n",
      "Epoch: 043, Loss: 0.4396, Train: 0.5315, Val: 0.6491\n",
      "Epoch: 044, Loss: 0.3710, Train: 0.5413, Val: 0.6696\n",
      "Epoch: 045, Loss: 0.3403, Train: 0.5676, Val: 0.6864\n",
      "Epoch: 046, Loss: 0.3478, Train: 0.5961, Val: 0.6929\n",
      "Epoch: 047, Loss: 0.3763, Train: 0.6067, Val: 0.6965\n",
      "Epoch: 048, Loss: 0.4044, Train: 0.6111, Val: 0.6982\n",
      "Epoch: 049, Loss: 0.4169, Train: 0.6090, Val: 0.6977\n",
      "Epoch: 050, Loss: 0.4091, Train: 0.6012, Val: 0.6950\n",
      "Epoch: 051, Loss: 0.3856, Train: 0.5824, Val: 0.6912\n",
      "Epoch: 052, Loss: 0.3566, Train: 0.5573, Val: 0.6841\n",
      "Epoch: 053, Loss: 0.3326, Train: 0.5380, Val: 0.6732\n",
      "Epoch: 054, Loss: 0.3208, Train: 0.5264, Val: 0.6624\n",
      "Epoch: 055, Loss: 0.3222, Train: 0.5214, Val: 0.6550\n",
      "Epoch: 056, Loss: 0.3316, Train: 0.5188, Val: 0.6509\n",
      "Epoch: 057, Loss: 0.3411, Train: 0.5169, Val: 0.6495\n",
      "Epoch: 058, Loss: 0.3442, Train: 0.5152, Val: 0.6505\n",
      "Epoch: 059, Loss: 0.3386, Train: 0.5140, Val: 0.6535\n",
      "Epoch: 060, Loss: 0.3268, Train: 0.5137, Val: 0.6585\n",
      "Epoch: 061, Loss: 0.3138, Train: 0.5158, Val: 0.6649\n",
      "Epoch: 062, Loss: 0.3044, Train: 0.5211, Val: 0.6719\n",
      "Epoch: 063, Loss: 0.3006, Train: 0.5279, Val: 0.6775\n",
      "Epoch: 064, Loss: 0.3016, Train: 0.5343, Val: 0.6803\n",
      "Epoch: 065, Loss: 0.3049, Train: 0.5385, Val: 0.6820\n",
      "Epoch: 066, Loss: 0.3075, Train: 0.5390, Val: 0.6823\n",
      "Epoch: 067, Loss: 0.3072, Train: 0.5357, Val: 0.6809\n",
      "Epoch: 068, Loss: 0.3038, Train: 0.5297, Val: 0.6784\n",
      "Epoch: 069, Loss: 0.2983, Train: 0.5227, Val: 0.6752\n",
      "Epoch: 070, Loss: 0.2927, Train: 0.5161, Val: 0.6717\n",
      "Epoch: 071, Loss: 0.2885, Train: 0.5108, Val: 0.6670\n",
      "Epoch: 072, Loss: 0.2865, Train: 0.5073, Val: 0.6624\n",
      "Epoch: 073, Loss: 0.2866, Train: 0.5054, Val: 0.6590\n",
      "Epoch: 074, Loss: 0.2875, Train: 0.5045, Val: 0.6570\n",
      "Epoch: 075, Loss: 0.2879, Train: 0.5041, Val: 0.6563\n",
      "Epoch: 076, Loss: 0.2870, Train: 0.5044, Val: 0.6569\n",
      "Epoch: 077, Loss: 0.2849, Train: 0.5052, Val: 0.6585\n",
      "Epoch: 078, Loss: 0.2821, Train: 0.5066, Val: 0.6609\n",
      "Epoch: 079, Loss: 0.2795, Train: 0.5086, Val: 0.6629\n",
      "Epoch: 080, Loss: 0.2778, Train: 0.5109, Val: 0.6645\n",
      "Epoch: 081, Loss: 0.2771, Train: 0.5130, Val: 0.6657\n",
      "Epoch: 082, Loss: 0.2770, Train: 0.5143, Val: 0.6661\n",
      "Epoch: 083, Loss: 0.2770, Train: 0.5144, Val: 0.6656\n",
      "Epoch: 084, Loss: 0.2765, Train: 0.5133, Val: 0.6645\n",
      "Epoch: 085, Loss: 0.2754, Train: 0.5113, Val: 0.6626\n",
      "Epoch: 086, Loss: 0.2738, Train: 0.5086, Val: 0.6600\n",
      "Epoch: 087, Loss: 0.2722, Train: 0.5057, Val: 0.6572\n",
      "Epoch: 088, Loss: 0.2708, Train: 0.5031, Val: 0.6545\n",
      "Epoch: 089, Loss: 0.2699, Train: 0.5010, Val: 0.6520\n",
      "Epoch: 090, Loss: 0.2693, Train: 0.4994, Val: 0.6500\n",
      "Epoch: 091, Loss: 0.2689, Train: 0.4983, Val: 0.6485\n",
      "Epoch: 092, Loss: 0.2684, Train: 0.4976, Val: 0.6474\n",
      "Epoch: 093, Loss: 0.2676, Train: 0.4973, Val: 0.6467\n",
      "Epoch: 094, Loss: 0.2665, Train: 0.4973, Val: 0.6463\n",
      "Epoch: 095, Loss: 0.2654, Train: 0.4976, Val: 0.6461\n",
      "Epoch: 096, Loss: 0.2642, Train: 0.4980, Val: 0.6459\n",
      "Epoch: 097, Loss: 0.2633, Train: 0.4984, Val: 0.6456\n",
      "Epoch: 098, Loss: 0.2625, Train: 0.4985, Val: 0.6450\n",
      "Epoch: 099, Loss: 0.2617, Train: 0.4982, Val: 0.6441\n",
      "Epoch: 100, Loss: 0.2610, Train: 0.4975, Val: 0.6427\n",
      "Epoch: 101, Loss: 0.2601, Train: 0.4965, Val: 0.6409\n",
      "Epoch: 102, Loss: 0.2592, Train: 0.4952, Val: 0.6389\n",
      "Epoch: 103, Loss: 0.2583, Train: 0.4941, Val: 0.6370\n",
      "Epoch: 104, Loss: 0.2576, Train: 0.4930, Val: 0.6355\n",
      "Epoch: 105, Loss: 0.2570, Train: 0.4919, Val: 0.6341\n",
      "Epoch: 106, Loss: 0.2564, Train: 0.4910, Val: 0.6331\n",
      "Epoch: 107, Loss: 0.2558, Train: 0.4902, Val: 0.6323\n",
      "Epoch: 108, Loss: 0.2552, Train: 0.4897, Val: 0.6319\n",
      "Epoch: 109, Loss: 0.2545, Train: 0.4892, Val: 0.6318\n",
      "Epoch: 110, Loss: 0.2537, Train: 0.4889, Val: 0.6319\n",
      "Epoch: 111, Loss: 0.2530, Train: 0.4887, Val: 0.6322\n",
      "Epoch: 112, Loss: 0.2523, Train: 0.4885, Val: 0.6326\n",
      "Epoch: 113, Loss: 0.2517, Train: 0.4881, Val: 0.6327\n",
      "Epoch: 114, Loss: 0.2511, Train: 0.4876, Val: 0.6325\n",
      "Epoch: 115, Loss: 0.2505, Train: 0.4870, Val: 0.6320\n",
      "Epoch: 116, Loss: 0.2498, Train: 0.4861, Val: 0.6311\n",
      "Epoch: 117, Loss: 0.2491, Train: 0.4851, Val: 0.6300\n",
      "Epoch: 118, Loss: 0.2484, Train: 0.4841, Val: 0.6289\n",
      "Epoch: 119, Loss: 0.2478, Train: 0.4832, Val: 0.6279\n",
      "Epoch: 120, Loss: 0.2471, Train: 0.4823, Val: 0.6269\n",
      "Epoch: 121, Loss: 0.2466, Train: 0.4814, Val: 0.6263\n",
      "Epoch: 122, Loss: 0.2460, Train: 0.4807, Val: 0.6258\n",
      "Epoch: 123, Loss: 0.2452, Train: 0.4801, Val: 0.6257\n",
      "Epoch: 124, Loss: 0.2445, Train: 0.4797, Val: 0.6258\n",
      "Epoch: 125, Loss: 0.2439, Train: 0.4793, Val: 0.6257\n",
      "Epoch: 126, Loss: 0.2433, Train: 0.4789, Val: 0.6252\n",
      "Epoch: 127, Loss: 0.2427, Train: 0.4783, Val: 0.6244\n",
      "Epoch: 128, Loss: 0.2420, Train: 0.4777, Val: 0.6236\n",
      "Epoch: 129, Loss: 0.2414, Train: 0.4773, Val: 0.6230\n",
      "Epoch: 130, Loss: 0.2409, Train: 0.4768, Val: 0.6228\n",
      "Epoch: 131, Loss: 0.2402, Train: 0.4762, Val: 0.6228\n",
      "Epoch: 132, Loss: 0.2395, Train: 0.4757, Val: 0.6228\n",
      "Epoch: 133, Loss: 0.2388, Train: 0.4751, Val: 0.6227\n",
      "Epoch: 134, Loss: 0.2382, Train: 0.4743, Val: 0.6221\n",
      "Epoch: 135, Loss: 0.2375, Train: 0.4734, Val: 0.6213\n",
      "Epoch: 136, Loss: 0.2368, Train: 0.4725, Val: 0.6203\n",
      "Epoch: 137, Loss: 0.2361, Train: 0.4717, Val: 0.6195\n",
      "Epoch: 138, Loss: 0.2355, Train: 0.4710, Val: 0.6192\n",
      "Epoch: 139, Loss: 0.2349, Train: 0.4704, Val: 0.6192\n",
      "Epoch: 140, Loss: 0.2343, Train: 0.4699, Val: 0.6192\n",
      "Epoch: 141, Loss: 0.2337, Train: 0.4694, Val: 0.6189\n",
      "Epoch: 142, Loss: 0.2331, Train: 0.4689, Val: 0.6185\n",
      "Epoch: 143, Loss: 0.2326, Train: 0.4684, Val: 0.6179\n",
      "Epoch: 144, Loss: 0.2319, Train: 0.4678, Val: 0.6173\n",
      "Epoch: 145, Loss: 0.2313, Train: 0.4673, Val: 0.6167\n",
      "Epoch: 146, Loss: 0.2307, Train: 0.4667, Val: 0.6162\n",
      "Epoch: 147, Loss: 0.2300, Train: 0.4662, Val: 0.6158\n",
      "Epoch: 148, Loss: 0.2294, Train: 0.4656, Val: 0.6155\n",
      "Epoch: 149, Loss: 0.2287, Train: 0.4651, Val: 0.6150\n",
      "Epoch: 150, Loss: 0.2280, Train: 0.4644, Val: 0.6145\n",
      "Epoch: 151, Loss: 0.2274, Train: 0.4638, Val: 0.6141\n",
      "Epoch: 152, Loss: 0.2267, Train: 0.4632, Val: 0.6138\n",
      "Epoch: 153, Loss: 0.2261, Train: 0.4624, Val: 0.6132\n",
      "Epoch: 154, Loss: 0.2255, Train: 0.4616, Val: 0.6123\n",
      "Epoch: 155, Loss: 0.2248, Train: 0.4608, Val: 0.6115\n",
      "Epoch: 156, Loss: 0.2242, Train: 0.4601, Val: 0.6110\n",
      "Epoch: 157, Loss: 0.2235, Train: 0.4595, Val: 0.6106\n",
      "Epoch: 158, Loss: 0.2229, Train: 0.4588, Val: 0.6100\n",
      "Epoch: 159, Loss: 0.2223, Train: 0.4582, Val: 0.6091\n",
      "Epoch: 160, Loss: 0.2216, Train: 0.4575, Val: 0.6083\n",
      "Epoch: 161, Loss: 0.2209, Train: 0.4568, Val: 0.6079\n",
      "Epoch: 162, Loss: 0.2202, Train: 0.4561, Val: 0.6075\n",
      "Epoch: 163, Loss: 0.2195, Train: 0.4554, Val: 0.6069\n",
      "Epoch: 164, Loss: 0.2188, Train: 0.4545, Val: 0.6061\n",
      "Epoch: 165, Loss: 0.2181, Train: 0.4536, Val: 0.6052\n",
      "Epoch: 166, Loss: 0.2175, Train: 0.4528, Val: 0.6043\n",
      "Epoch: 167, Loss: 0.2168, Train: 0.4519, Val: 0.6033\n",
      "Epoch: 168, Loss: 0.2161, Train: 0.4511, Val: 0.6026\n",
      "Epoch: 169, Loss: 0.2155, Train: 0.4503, Val: 0.6022\n",
      "Epoch: 170, Loss: 0.2148, Train: 0.4496, Val: 0.6017\n",
      "Epoch: 171, Loss: 0.2142, Train: 0.4489, Val: 0.6010\n",
      "Epoch: 172, Loss: 0.2135, Train: 0.4481, Val: 0.6002\n",
      "Epoch: 173, Loss: 0.2128, Train: 0.4474, Val: 0.5993\n",
      "Epoch: 174, Loss: 0.2122, Train: 0.4467, Val: 0.5984\n",
      "Epoch: 175, Loss: 0.2116, Train: 0.4459, Val: 0.5974\n",
      "Epoch: 176, Loss: 0.2110, Train: 0.4451, Val: 0.5964\n",
      "Epoch: 177, Loss: 0.2103, Train: 0.4445, Val: 0.5957\n",
      "Epoch: 178, Loss: 0.2097, Train: 0.4439, Val: 0.5952\n",
      "Epoch: 179, Loss: 0.2091, Train: 0.4432, Val: 0.5945\n",
      "Epoch: 180, Loss: 0.2085, Train: 0.4425, Val: 0.5935\n",
      "Epoch: 181, Loss: 0.2079, Train: 0.4418, Val: 0.5929\n",
      "Epoch: 182, Loss: 0.2072, Train: 0.4412, Val: 0.5925\n",
      "Epoch: 183, Loss: 0.2065, Train: 0.4405, Val: 0.5921\n",
      "Epoch: 184, Loss: 0.2059, Train: 0.4397, Val: 0.5912\n",
      "Epoch: 185, Loss: 0.2051, Train: 0.4387, Val: 0.5899\n",
      "Epoch: 186, Loss: 0.2044, Train: 0.4378, Val: 0.5888\n",
      "Epoch: 187, Loss: 0.2038, Train: 0.4370, Val: 0.5878\n",
      "Epoch: 188, Loss: 0.2031, Train: 0.4362, Val: 0.5872\n",
      "Epoch: 189, Loss: 0.2025, Train: 0.4355, Val: 0.5867\n",
      "Epoch: 190, Loss: 0.2018, Train: 0.4348, Val: 0.5862\n",
      "Epoch: 191, Loss: 0.2012, Train: 0.4341, Val: 0.5856\n",
      "Epoch: 192, Loss: 0.2005, Train: 0.4334, Val: 0.5847\n",
      "Epoch: 193, Loss: 0.1999, Train: 0.4326, Val: 0.5836\n",
      "Epoch: 194, Loss: 0.1993, Train: 0.4318, Val: 0.5825\n",
      "Epoch: 195, Loss: 0.1986, Train: 0.4310, Val: 0.5812\n",
      "Epoch: 196, Loss: 0.1981, Train: 0.4303, Val: 0.5802\n",
      "Epoch: 197, Loss: 0.1975, Train: 0.4297, Val: 0.5795\n",
      "Epoch: 198, Loss: 0.1968, Train: 0.4292, Val: 0.5789\n",
      "Epoch: 199, Loss: 0.1962, Train: 0.4286, Val: 0.5783\n",
      "Epoch: 200, Loss: 0.1956, Train: 0.4281, Val: 0.5776\n",
      "Epoch: 201, Loss: 0.1950, Train: 0.4274, Val: 0.5768\n",
      "Epoch: 202, Loss: 0.1944, Train: 0.4268, Val: 0.5757\n",
      "Epoch: 203, Loss: 0.1938, Train: 0.4261, Val: 0.5747\n",
      "Epoch: 204, Loss: 0.1932, Train: 0.4255, Val: 0.5737\n",
      "Epoch: 205, Loss: 0.1927, Train: 0.4249, Val: 0.5729\n",
      "Epoch: 206, Loss: 0.1921, Train: 0.4244, Val: 0.5723\n",
      "Epoch: 207, Loss: 0.1916, Train: 0.4238, Val: 0.5714\n",
      "Epoch: 208, Loss: 0.1910, Train: 0.4232, Val: 0.5705\n",
      "Epoch: 209, Loss: 0.1904, Train: 0.4226, Val: 0.5696\n",
      "Epoch: 210, Loss: 0.1899, Train: 0.4221, Val: 0.5691\n",
      "Epoch: 211, Loss: 0.1894, Train: 0.4217, Val: 0.5688\n",
      "Epoch: 212, Loss: 0.1889, Train: 0.4212, Val: 0.5683\n",
      "Epoch: 213, Loss: 0.1884, Train: 0.4206, Val: 0.5675\n",
      "Epoch: 214, Loss: 0.1879, Train: 0.4200, Val: 0.5665\n",
      "Epoch: 215, Loss: 0.1873, Train: 0.4193, Val: 0.5653\n",
      "Epoch: 216, Loss: 0.1868, Train: 0.4187, Val: 0.5643\n",
      "Epoch: 217, Loss: 0.1864, Train: 0.4182, Val: 0.5639\n",
      "Epoch: 218, Loss: 0.1859, Train: 0.4178, Val: 0.5635\n",
      "Epoch: 219, Loss: 0.1854, Train: 0.4174, Val: 0.5632\n",
      "Epoch: 220, Loss: 0.1849, Train: 0.4169, Val: 0.5626\n",
      "Epoch: 221, Loss: 0.1845, Train: 0.4164, Val: 0.5618\n",
      "Epoch: 222, Loss: 0.1840, Train: 0.4157, Val: 0.5609\n",
      "Epoch: 223, Loss: 0.1835, Train: 0.4151, Val: 0.5600\n",
      "Epoch: 224, Loss: 0.1831, Train: 0.4145, Val: 0.5593\n",
      "Epoch: 225, Loss: 0.1826, Train: 0.4139, Val: 0.5586\n",
      "Epoch: 226, Loss: 0.1822, Train: 0.4134, Val: 0.5581\n",
      "Epoch: 227, Loss: 0.1817, Train: 0.4130, Val: 0.5576\n",
      "Epoch: 228, Loss: 0.1813, Train: 0.4125, Val: 0.5572\n",
      "Epoch: 229, Loss: 0.1808, Train: 0.4121, Val: 0.5567\n",
      "Epoch: 230, Loss: 0.1804, Train: 0.4116, Val: 0.5561\n",
      "Epoch: 231, Loss: 0.1799, Train: 0.4111, Val: 0.5552\n",
      "Epoch: 232, Loss: 0.1795, Train: 0.4105, Val: 0.5544\n",
      "Epoch: 233, Loss: 0.1791, Train: 0.4101, Val: 0.5538\n",
      "Epoch: 234, Loss: 0.1786, Train: 0.4096, Val: 0.5532\n",
      "Epoch: 235, Loss: 0.1782, Train: 0.4092, Val: 0.5527\n",
      "Epoch: 236, Loss: 0.1778, Train: 0.4088, Val: 0.5523\n",
      "Epoch: 237, Loss: 0.1774, Train: 0.4084, Val: 0.5518\n",
      "Epoch: 238, Loss: 0.1770, Train: 0.4079, Val: 0.5512\n",
      "Epoch: 239, Loss: 0.1766, Train: 0.4075, Val: 0.5505\n",
      "Epoch: 240, Loss: 0.1761, Train: 0.4070, Val: 0.5500\n",
      "Epoch: 241, Loss: 0.1757, Train: 0.4066, Val: 0.5495\n",
      "Epoch: 242, Loss: 0.1753, Train: 0.4061, Val: 0.5491\n",
      "Epoch: 243, Loss: 0.1749, Train: 0.4057, Val: 0.5485\n",
      "Epoch: 244, Loss: 0.1745, Train: 0.4052, Val: 0.5479\n",
      "Epoch: 245, Loss: 0.1741, Train: 0.4047, Val: 0.5473\n",
      "Epoch: 246, Loss: 0.1737, Train: 0.4042, Val: 0.5466\n",
      "Epoch: 247, Loss: 0.1733, Train: 0.4037, Val: 0.5461\n",
      "Epoch: 248, Loss: 0.1729, Train: 0.4032, Val: 0.5455\n",
      "Epoch: 249, Loss: 0.1725, Train: 0.4027, Val: 0.5449\n",
      "Epoch: 250, Loss: 0.1721, Train: 0.4023, Val: 0.5444\n",
      "Epoch: 251, Loss: 0.1717, Train: 0.4019, Val: 0.5438\n",
      "Epoch: 252, Loss: 0.1714, Train: 0.4015, Val: 0.5433\n",
      "Epoch: 253, Loss: 0.1710, Train: 0.4011, Val: 0.5427\n",
      "Epoch: 254, Loss: 0.1706, Train: 0.4007, Val: 0.5422\n",
      "Epoch: 255, Loss: 0.1702, Train: 0.4003, Val: 0.5417\n",
      "Epoch: 256, Loss: 0.1698, Train: 0.3999, Val: 0.5412\n",
      "Epoch: 257, Loss: 0.1694, Train: 0.3995, Val: 0.5406\n",
      "Epoch: 258, Loss: 0.1691, Train: 0.3991, Val: 0.5400\n",
      "Epoch: 259, Loss: 0.1687, Train: 0.3987, Val: 0.5394\n",
      "Epoch: 260, Loss: 0.1683, Train: 0.3983, Val: 0.5389\n",
      "Epoch: 261, Loss: 0.1680, Train: 0.3979, Val: 0.5383\n",
      "Epoch: 262, Loss: 0.1676, Train: 0.3975, Val: 0.5378\n",
      "Epoch: 263, Loss: 0.1672, Train: 0.3971, Val: 0.5373\n",
      "Epoch: 264, Loss: 0.1669, Train: 0.3967, Val: 0.5368\n",
      "Epoch: 265, Loss: 0.1665, Train: 0.3963, Val: 0.5363\n",
      "Epoch: 266, Loss: 0.1661, Train: 0.3959, Val: 0.5358\n",
      "Epoch: 267, Loss: 0.1658, Train: 0.3955, Val: 0.5353\n",
      "Epoch: 268, Loss: 0.1654, Train: 0.3951, Val: 0.5348\n",
      "Epoch: 269, Loss: 0.1651, Train: 0.3947, Val: 0.5343\n",
      "Epoch: 270, Loss: 0.1647, Train: 0.3943, Val: 0.5338\n",
      "Epoch: 271, Loss: 0.1644, Train: 0.3939, Val: 0.5332\n",
      "Epoch: 272, Loss: 0.1640, Train: 0.3935, Val: 0.5326\n",
      "Epoch: 273, Loss: 0.1636, Train: 0.3931, Val: 0.5318\n",
      "Epoch: 274, Loss: 0.1633, Train: 0.3927, Val: 0.5311\n",
      "Epoch: 275, Loss: 0.1629, Train: 0.3923, Val: 0.5305\n",
      "Epoch: 276, Loss: 0.1626, Train: 0.3919, Val: 0.5298\n",
      "Epoch: 277, Loss: 0.1622, Train: 0.3915, Val: 0.5292\n",
      "Epoch: 278, Loss: 0.1619, Train: 0.3911, Val: 0.5286\n",
      "Epoch: 279, Loss: 0.1615, Train: 0.3907, Val: 0.5280\n",
      "Epoch: 280, Loss: 0.1612, Train: 0.3903, Val: 0.5273\n",
      "Epoch: 281, Loss: 0.1608, Train: 0.3899, Val: 0.5268\n",
      "Epoch: 282, Loss: 0.1605, Train: 0.3895, Val: 0.5262\n",
      "Epoch: 283, Loss: 0.1602, Train: 0.3891, Val: 0.5257\n",
      "Epoch: 284, Loss: 0.1598, Train: 0.3888, Val: 0.5251\n",
      "Epoch: 285, Loss: 0.1595, Train: 0.3884, Val: 0.5246\n",
      "Epoch: 286, Loss: 0.1592, Train: 0.3881, Val: 0.5241\n",
      "Epoch: 287, Loss: 0.1589, Train: 0.3877, Val: 0.5236\n",
      "Epoch: 288, Loss: 0.1585, Train: 0.3873, Val: 0.5231\n",
      "Epoch: 289, Loss: 0.1582, Train: 0.3870, Val: 0.5226\n",
      "Epoch: 290, Loss: 0.1578, Train: 0.3866, Val: 0.5222\n",
      "Epoch: 291, Loss: 0.1575, Train: 0.3861, Val: 0.5217\n",
      "Epoch: 292, Loss: 0.1571, Train: 0.3856, Val: 0.5212\n",
      "Epoch: 293, Loss: 0.1568, Train: 0.3851, Val: 0.5206\n",
      "Epoch: 294, Loss: 0.1564, Train: 0.3846, Val: 0.5201\n",
      "Epoch: 295, Loss: 0.1561, Train: 0.3841, Val: 0.5194\n",
      "Epoch: 296, Loss: 0.1557, Train: 0.3836, Val: 0.5188\n",
      "Epoch: 297, Loss: 0.1554, Train: 0.3832, Val: 0.5183\n",
      "Epoch: 298, Loss: 0.1551, Train: 0.3828, Val: 0.5177\n",
      "Epoch: 299, Loss: 0.1547, Train: 0.3824, Val: 0.5172\n",
      "Epoch: 300, Loss: 0.1544, Train: 0.3820, Val: 0.5167\n"
     ]
    }
   ],
   "source": [
    "for epoch in range(1, 301):\n",
    "    train_data = train_data.to(device)\n",
    "    loss = train()\n",
    "    train_rmse = test(train_data)\n",
    "    val_rmse = test(val_data)\n",
    "    print(f'Epoch: {epoch:03d}, Loss: {loss:.4f}, Train: {train_rmse:.4f}, '\n",
    "          f'Val: {val_rmse:.4f}')"
   ]
  },
  {
   "cell_type": "code",
   "execution_count": 27,
   "metadata": {},
   "outputs": [
    {
     "name": "stdout",
     "output_type": "stream",
     "text": [
      "Test RMSE: 0.4376\n"
     ]
    }
   ],
   "source": [
    "with torch.no_grad():\n",
    "    test_data = test_data.to(device)\n",
    "    pred = model(test_data.x_dict, test_data.edge_index_dict,\n",
    "                 test_data['source', 'target'].edge_label_index)\n",
    "    pred = pred.clamp(min=0, max=1)\n",
    "    target = test_data['source', 'target'].edge_label.float()\n",
    "    rmse = F.mse_loss(pred, target).sqrt()\n",
    "    print(f'Test RMSE: {rmse:.4f}')\n",
    "\n",
    "sour = test_data['source', 'target'].edge_label_index[0].cpu().numpy()\n",
    "tar = test_data['source', 'target'].edge_label_index[1].cpu().numpy()\n",
    "pred = pred.cpu().numpy()\n",
    "target = target.cpu().numpy()\n",
    "\n",
    "res=pd.DataFrame({'source': sour, 'target': tar, 'pred': pred, 'compare': target})"
   ]
  },
  {
   "cell_type": "code",
   "execution_count": 28,
   "metadata": {},
   "outputs": [],
   "source": [
    "#Add a new column if pred is greater or equal than 0.5 then 1 else 0.5\n",
    "res['weight'] = np.where(res['pred']>0.5, 1, 0)"
   ]
  },
  {
   "cell_type": "code",
   "execution_count": 29,
   "metadata": {},
   "outputs": [
    {
     "data": {
      "text/html": [
       "<div>\n",
       "<style scoped>\n",
       "    .dataframe tbody tr th:only-of-type {\n",
       "        vertical-align: middle;\n",
       "    }\n",
       "\n",
       "    .dataframe tbody tr th {\n",
       "        vertical-align: top;\n",
       "    }\n",
       "\n",
       "    .dataframe thead th {\n",
       "        text-align: right;\n",
       "    }\n",
       "</style>\n",
       "<table border=\"1\" class=\"dataframe\">\n",
       "  <thead>\n",
       "    <tr style=\"text-align: right;\">\n",
       "      <th></th>\n",
       "      <th>source</th>\n",
       "      <th>target</th>\n",
       "      <th>pred</th>\n",
       "      <th>compare</th>\n",
       "      <th>weight</th>\n",
       "    </tr>\n",
       "  </thead>\n",
       "  <tbody>\n",
       "    <tr>\n",
       "      <th>0</th>\n",
       "      <td>127</td>\n",
       "      <td>128</td>\n",
       "      <td>0.409241</td>\n",
       "      <td>1.0</td>\n",
       "      <td>0</td>\n",
       "    </tr>\n",
       "    <tr>\n",
       "      <th>1</th>\n",
       "      <td>271</td>\n",
       "      <td>62</td>\n",
       "      <td>0.600271</td>\n",
       "      <td>0.0</td>\n",
       "      <td>1</td>\n",
       "    </tr>\n",
       "    <tr>\n",
       "      <th>2</th>\n",
       "      <td>371</td>\n",
       "      <td>472</td>\n",
       "      <td>0.302245</td>\n",
       "      <td>0.0</td>\n",
       "      <td>0</td>\n",
       "    </tr>\n",
       "    <tr>\n",
       "      <th>3</th>\n",
       "      <td>6</td>\n",
       "      <td>7</td>\n",
       "      <td>0.542166</td>\n",
       "      <td>1.0</td>\n",
       "      <td>1</td>\n",
       "    </tr>\n",
       "    <tr>\n",
       "      <th>4</th>\n",
       "      <td>206</td>\n",
       "      <td>207</td>\n",
       "      <td>1.000000</td>\n",
       "      <td>1.0</td>\n",
       "      <td>1</td>\n",
       "    </tr>\n",
       "  </tbody>\n",
       "</table>\n",
       "</div>"
      ],
      "text/plain": [
       "   source  target      pred  compare  weight\n",
       "0     127     128  0.409241      1.0       0\n",
       "1     271      62  0.600271      0.0       1\n",
       "2     371     472  0.302245      0.0       0\n",
       "3       6       7  0.542166      1.0       1\n",
       "4     206     207  1.000000      1.0       1"
      ]
     },
     "execution_count": 29,
     "metadata": {},
     "output_type": "execute_result"
    }
   ],
   "source": [
    "res.head()"
   ]
  },
  {
   "cell_type": "code",
   "execution_count": 30,
   "metadata": {},
   "outputs": [
    {
     "name": "stdout",
     "output_type": "stream",
     "text": [
      "Accuracy: 0.6811594202898551\n",
      "Number of correct predictions: 47\n"
     ]
    }
   ],
   "source": [
    "#compare column rating_1 with target and if they are equal add up\n",
    "cont=0\n",
    "for i in res.itertuples():\n",
    "    if i.compare == i.weight:\n",
    "        cont+=1\n",
    "\n",
    "#Calculate the accuracy\n",
    "accuracy = cont/len(res)\n",
    "print('Accuracy:', accuracy)\n",
    "print('Number of correct predictions:', cont)"
   ]
  },
  {
   "cell_type": "code",
   "execution_count": 31,
   "metadata": {},
   "outputs": [],
   "source": [
    "res_1 = res[res['compare']==1]\n",
    "res_0 = res[res['compare']==0]"
   ]
  },
  {
   "cell_type": "code",
   "execution_count": 32,
   "metadata": {},
   "outputs": [
    {
     "name": "stdout",
     "output_type": "stream",
     "text": [
      "Accuracy: 0.6\n",
      "Number of correct predictions: 12\n",
      "--------------------------------------------\n",
      "Accuracy: 0.7142857142857143\n",
      "Number of correct predictions: 35\n"
     ]
    }
   ],
   "source": [
    "#compare column rating_1 with target and if they are equal add up\n",
    "cont=0\n",
    "for i in res_0.itertuples():\n",
    "    if i.compare == i.weight:\n",
    "        cont+=1\n",
    "\n",
    "#Calculate the accuracy\n",
    "accuracy = cont/len(res_0)\n",
    "print('Accuracy:', accuracy)\n",
    "print('Number of correct predictions:', cont)\n",
    "\n",
    "print(\"--------------------------------------------\")\n",
    "\n",
    "#compare column rating_1 with target and if they are equal add up\n",
    "cont=0\n",
    "for i in res_1.itertuples():\n",
    "    if i.compare == i.weight:\n",
    "        cont+=1\n",
    "\n",
    "#Calculate the accuracy\n",
    "accuracy = cont/len(res_1)\n",
    "print('Accuracy:', accuracy)\n",
    "print('Number of correct predictions:', cont)"
   ]
  },
  {
   "cell_type": "markdown",
   "metadata": {},
   "source": [
    "## New Graph"
   ]
  },
  {
   "cell_type": "code",
   "execution_count": 33,
   "metadata": {},
   "outputs": [],
   "source": [
    "#read a new csv file\n",
    "file_test = cwd + '/points_10.csv'\n",
    "df_test=pd.read_csv(file_test, sep=',')\n",
    "\n",
    "#Round the values of the dataset to 4 decimal places\n",
    "df_test = df_test.round(4)\n",
    "\n",
    "#Add a column to use as index from 0 to the length of the dataset\n",
    "df_test['n_label'] = range(0, len(df_test))\n",
    "\n",
    "#delete the column p_label\n",
    "df_test = df_test.drop('p_label', axis=1)"
   ]
  },
  {
   "cell_type": "code",
   "execution_count": 34,
   "metadata": {},
   "outputs": [],
   "source": [
    "data_10=HeteroData()\n",
    "\n",
    "nodes_s=df_test['n_label'].values\n",
    "nodes_t=df_test['n_label'].values\n",
    "\n",
    "data_10['source'].node_id = torch.tensor(nodes_s, dtype=torch.long)\n",
    "data_10['target'].node_id = torch.tensor(nodes_t, dtype=torch.long)\n",
    "\n",
    "data_10['source'].x = Tensor(df_test[['x', 'y', 'z']].values)\n",
    "data_10['target'].x = Tensor(df_test[['x', 'y', 'z']].values)"
   ]
  },
  {
   "cell_type": "code",
   "execution_count": 35,
   "metadata": {},
   "outputs": [],
   "source": [
    "edge_test_path = cwd + '/grap_10.csv'\n",
    "\n",
    "# Importing the dataset\n",
    "df_test_edge = pd.read_csv(edge_test_path)\n",
    "\n",
    "#Change weight column, where 0.5 to 0\n",
    "df_test_edge['weight'] = df_test_edge['weight'].replace(0.5, 0)\n",
    "\n",
    "edge_index_test = torch.tensor([df_test_edge['Source'], df_test_edge['Target']], dtype=torch.long)\n",
    "\n",
    "data_10['source', 'weight', 'target'].edge_index = edge_index_test\n",
    "\n",
    "weight_test = torch.from_numpy(df_test_edge['weight'].values).to(torch.float)\n",
    "\n",
    "data_10['source', 'weight', 'target'].edge_label=weight_test"
   ]
  },
  {
   "cell_type": "code",
   "execution_count": 36,
   "metadata": {},
   "outputs": [],
   "source": [
    "data_10= T.ToUndirected()(data_10)\n",
    "del data_10['target', 'rev_weight', 'source'].edge_label"
   ]
  },
  {
   "cell_type": "code",
   "execution_count": 37,
   "metadata": {},
   "outputs": [
    {
     "name": "stdout",
     "output_type": "stream",
     "text": [
      "True\n"
     ]
    },
    {
     "data": {
      "text/plain": [
       "HeteroData(\n",
       "  source={\n",
       "    node_id=[100],\n",
       "    x=[100, 3],\n",
       "  },\n",
       "  target={\n",
       "    node_id=[100],\n",
       "    x=[100, 3],\n",
       "  },\n",
       "  (source, weight, target)={\n",
       "    edge_index=[2, 107],\n",
       "    edge_label=[107],\n",
       "  },\n",
       "  (target, rev_weight, source)={ edge_index=[2, 107] }\n",
       ")"
      ]
     },
     "execution_count": 37,
     "metadata": {},
     "output_type": "execute_result"
    }
   ],
   "source": [
    "print(data_10.validate(raise_on_error=True))\n",
    "data_10"
   ]
  },
  {
   "cell_type": "code",
   "execution_count": 38,
   "metadata": {},
   "outputs": [
    {
     "name": "stdout",
     "output_type": "stream",
     "text": [
      "Test RMSE: 0.4612\n"
     ]
    }
   ],
   "source": [
    "with torch.no_grad():\n",
    "    data_10 = data_10.to(device)\n",
    "    pred = model(data_10.x_dict, data_10.edge_index_dict,\n",
    "                 data_10['source', 'target'].edge_index)\n",
    "    pred = pred.clamp(min=0, max=1)\n",
    "    target = data_10['source', 'target'].edge_label.float()\n",
    "    rmse = F.mse_loss(pred, target).sqrt()\n",
    "    print(f'Test RMSE: {rmse:.4f}')\n",
    "\n",
    "sour = data_10['source', 'target'].edge_index[0].cpu().numpy()\n",
    "tar = data_10['source', 'target'].edge_index[1].cpu().numpy()\n",
    "pred = pred.cpu().numpy()\n",
    "target = target.cpu().numpy()\n",
    "\n",
    "res=pd.DataFrame({'source': sour, 'target': tar, 'pred': pred, 'compare': target})"
   ]
  },
  {
   "cell_type": "code",
   "execution_count": 39,
   "metadata": {},
   "outputs": [
    {
     "name": "stdout",
     "output_type": "stream",
     "text": [
      "Accuracy: 0.7476635514018691\n",
      "Number of correct predictions: 80\n"
     ]
    }
   ],
   "source": [
    "#Add a new column if pred is greater or equal than 0.5 then 1 else 0.5\n",
    "res['weight'] = np.where(res['pred']>0.5, 1, 0)\n",
    "\n",
    "#compare column rating_1 with target and if they are equal add up\n",
    "cont=0\n",
    "for i in res.itertuples():\n",
    "    if i.compare == i.weight:\n",
    "        cont+=1\n",
    "\n",
    "#Calculate the accuracy\n",
    "accuracy = cont/len(res)\n",
    "print('Accuracy:', accuracy)\n",
    "print('Number of correct predictions:', cont)"
   ]
  },
  {
   "cell_type": "code",
   "execution_count": 40,
   "metadata": {},
   "outputs": [],
   "source": [
    "res_1 = res[res['weight']==1]\n",
    "res_0 = res[res['weight']==0]"
   ]
  },
  {
   "cell_type": "code",
   "execution_count": 42,
   "metadata": {},
   "outputs": [
    {
     "name": "stdout",
     "output_type": "stream",
     "text": [
      "values of weight 0\n",
      "Accuracy: 0.26666666666666666\n",
      "Number of correct predictions: 4\n",
      "--------------------------------------------\n",
      "values of weight 1\n",
      "Accuracy: 0.8260869565217391\n",
      "Number of correct predictions: 76\n"
     ]
    }
   ],
   "source": [
    "#compare column rating_1 with target and if they are equal add up\n",
    "print(\"values of weight 0\")\n",
    "cont=0\n",
    "for i in res_0.itertuples():\n",
    "    if i.compare == i.weight:\n",
    "        cont+=1\n",
    "\n",
    "#Calculate the accuracy\n",
    "accuracy = cont/len(res_0)\n",
    "print('Accuracy:', accuracy)\n",
    "print('Number of correct predictions:', cont)\n",
    "\n",
    "print(\"--------------------------------------------\")\n",
    "print(\"values of weight 1\")\n",
    "cont=0\n",
    "for i in res_1.itertuples():\n",
    "    if i.compare == i.weight:\n",
    "        cont+=1\n",
    "\n",
    "#Calculate the accuracy\n",
    "accuracy = cont/len(res_1)\n",
    "print('Accuracy:', accuracy)\n",
    "print('Number of correct predictions:', cont)"
   ]
  },
  {
   "cell_type": "code",
   "execution_count": 48,
   "metadata": {},
   "outputs": [
    {
     "data": {
      "image/png": "[encoded data removed]",
      "text/plain": [
       "<Figure size 640x480 with 1 Axes>"
      ]
     },
     "metadata": {},
     "output_type": "display_data"
    }
   ],
   "source": [
    "plt.plot(df_test['x'], df_test['y'], 'o', color='black')\n",
    "for i in res.itertuples():\n",
    "    if i.weight == 1:\n",
    "        plt.plot([df_test['x'][i.source], df_test['x'][i.target]], [df_test['y'][i.source], df_test['y'][i.target]], color='red')\n",
    "    else:\n",
    "        plt.plot([df_test['x'][i.source], df_test['x'][i.target]], [df_test['y'][i.source], df_test['y'][i.target]], color='blue')\n",
    "plt.show()\n"
   ]
  },
  {
   "cell_type": "code",
   "execution_count": 45,
   "metadata": {},
   "outputs": [
    {
     "data": {
      "image/png": "[encoded data removed]",
      "text/plain": [
       "<Figure size 640x480 with 1 Axes>"
      ]
     },
     "metadata": {},
     "output_type": "display_data"
    }
   ],
   "source": [
    "#plot the 3D points, add lines between the points and the color of the line will be the weight\n",
    "fig = plt.figure()\n",
    "ax = fig.add_subplot(111, projection='3d')\n",
    "\n",
    "#plot the points\n",
    "ax.scatter(df_test['x'], df_test['y'], df_test['z'], c='r', marker='o')\n",
    "\n",
    "#plot the lines\n",
    "for i in res.itertuples():\n",
    "    if i.weight == 1:\n",
    "        ax.plot([df_test['x'][i.source], df_test['x'][i.target]], [df_test['y'][i.source], df_test['y'][i.target]], [df_test['z'][i.source], df_test['z'][i.target]], c='b')\n",
    "    else:\n",
    "        ax.plot([df_test['x'][i.source], df_test['x'][i.target]], [df_test['y'][i.source], df_test['y'][i.target]], [df_test['z'][i.source], df_test['z'][i.target]], c='black')\n",
    "\n",
    "plt.show()"
   ]
  },
  {
   "cell_type": "code",
   "execution_count": null,
   "metadata": {},
   "outputs": [],
   "source": []
  }
 ],
 "metadata": {
  "kernelspec": {
   "display_name": "Python 3 (ipykernel)",
   "language": "python",
   "name": "python3"
  },
  "language_info": {
   "codemirror_mode": {
    "name": "ipython",
    "version": 3
   },
   "file_extension": ".py",
   "mimetype": "text/x-python",
   "name": "python",
   "nbconvert_exporter": "python",
   "pygments_lexer": "ipython3",
   "version": "3.10.12"
  }
 },
 "nbformat": 4,
 "nbformat_minor": 2
}
